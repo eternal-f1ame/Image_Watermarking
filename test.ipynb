{
 "cells": [
  {
   "attachments": {},
   "cell_type": "markdown",
   "metadata": {},
   "source": [
    "## Test"
   ]
  },
  {
   "cell_type": "code",
   "execution_count": 1,
   "metadata": {},
   "outputs": [],
   "source": [
    "import cv2\n",
    "import os\n",
    "import pywt\n",
    "import numpy as np\n",
    "from util.watermarking import Watermarking\n",
    "from util.test import eval_metrics\n",
    "from util.metrics import METRICS\n",
    "import matplotlib.pyplot as plt\n",
    "\n",
    "def test(T, K, W, data_path):\n",
    "    results = {key:[] for key in METRICS.keys()}\n",
    "    for i, image in enumerate(os.listdir(data_path)):\n",
    "        if i == 128:\n",
    "            break\n",
    "        try:\n",
    "            I = cv2.imread(data_path+\"/\"+image)\n",
    "            result = eval_metrics(T, I, W, K)\n",
    "            for key in METRICS.keys():\n",
    "                results[key].append(result[key])\n",
    "        except Exception as e:\n",
    "            print(image)\n",
    "            raise e\n",
    "    return results"
   ]
  },
  {
   "attachments": {},
   "cell_type": "markdown",
   "metadata": {},
   "source": [
    "## ADD"
   ]
  },
  {
   "cell_type": "code",
   "execution_count": 2,
   "metadata": {},
   "outputs": [],
   "source": [
    "\"\"\"Additive algorithm for Watermarking\"\"\"\n",
    "\n",
    "class ADD(Watermarking):\n",
    "    \"\"\"Class for watermarking for ADD algorithm.\"\"\"\n",
    "    def __init__(self):\n",
    "        self.type = \"ADD\"\n",
    "\n",
    "    def enc(self, _i, _w, _k):\n",
    "        \"\"\"Encrypts an image _i with a watermark _w and a key _k.\"\"\"\n",
    "        _w = cv2.resize(_w, (_i.shape[1], _i.shape[0]))\n",
    "        alpha = _k\n",
    "        i_res = _i + alpha*_w\n",
    "        i_res = np.clip(i_res,0,255)\n",
    "        i_res = i_res.astype(np.uint8)\n",
    "        return i_res\n",
    "\n",
    "    def dec(self, _d, _i, _k):\n",
    "        \"\"\"Decrypts a watermark from an image _i with a key _k.\"\"\"\n",
    "\n",
    "        alpha = _k\n",
    "        i_res = _i - _d\n",
    "        i_res = i_res/alpha\n",
    "        i_res = np.clip(i_res, 0, 255)\n",
    "        return i_res\n"
   ]
  },
  {
   "cell_type": "code",
   "execution_count": 3,
   "metadata": {},
   "outputs": [
    {
     "data": {
      "text/plain": [
       "{'MSE': 2.6353496666666665,\n",
       " 'PSNR': 43.925691310152395,\n",
       " 'SSIM': 0.9953798325994483,\n",
       " 'BER': 1.1873208888888889}"
      ]
     },
     "execution_count": 3,
     "metadata": {},
     "output_type": "execute_result"
    }
   ],
   "source": [
    "T = ADD()\n",
    "K = 0.05\n",
    "W = cv2.imread(\"watermark.jpg\")\n",
    "\n",
    "results_ADD = test(T, K, W, \"100_Image_Dataset\")\n",
    "results_ADD_MEAN = {key:np.mean(results_ADD[key]) for key in METRICS.keys()}\n",
    "results_ADD_MEAN"
   ]
  },
  {
   "cell_type": "code",
   "execution_count": 4,
   "metadata": {},
   "outputs": [
    {
     "data": {
      "text/plain": [
       "{'MSE': 2.6048239872685186,\n",
       " 'PSNR': 43.98414050474563,\n",
       " 'SSIM': 0.9954223710717927,\n",
       " 'BER': 1.1688138888888888}"
      ]
     },
     "execution_count": 4,
     "metadata": {},
     "output_type": "execute_result"
    }
   ],
   "source": [
    "results_ADD = test(T, K, W, \"COCO_Dataset\")\n",
    "results_ADD_MEAN = {key:np.mean(results_ADD[key]) for key in METRICS.keys()}\n",
    "results_ADD_MEAN"
   ]
  },
  {
   "attachments": {},
   "cell_type": "markdown",
   "metadata": {},
   "source": [
    "## LSB"
   ]
  },
  {
   "cell_type": "code",
   "execution_count": 5,
   "metadata": {},
   "outputs": [
    {
     "data": {
      "text/plain": [
       "{'MSE': 2.6048239872685186,\n",
       " 'PSNR': 43.98414050474563,\n",
       " 'SSIM': 0.9954223710717927,\n",
       " 'BER': 1.1688138888888888}"
      ]
     },
     "execution_count": 5,
     "metadata": {},
     "output_type": "execute_result"
    }
   ],
   "source": [
    "\"\"\"LSB algorithm for watermarking.\"\"\"\n",
    "\n",
    "import numpy as np\n",
    "from util.watermarking import Watermarking\n",
    "from util.test import encrypt_img\n",
    "from util.test import eval_metrics\n",
    "\n",
    "class LSB(Watermarking):\n",
    "    \"\"\"Abstract class for watermarking for LSB algorithm.\"\"\"\n",
    "    def __init__(self):\n",
    "        self.type = \"LSB\"\n",
    "\n",
    "    def enc(self, _i, _w, _k):\n",
    "        \"\"\"Encrypts an image _i with a watermark _w and a key _k.\"\"\"\n",
    "        i_flat = _i.flatten()\n",
    "        w_bits = _w + bytes(\"$$$\",encoding='utf8')\n",
    "        cnt = 0\n",
    "        for bit in w_bits:\n",
    "            for i in range(8):\n",
    "                bit_val = (bit >> i) & 1\n",
    "                if bit_val == 1:\n",
    "                    i_flat[cnt] |= 1\n",
    "                else:\n",
    "                    i_flat[cnt] &= 0\n",
    "                cnt += 1\n",
    "        i_res = np.resize(i_flat, _i.shape)\n",
    "        return i_res\n",
    "\n",
    "    def dec(self, _d, _i, _k):\n",
    "        \"\"\"Decrypts an image _d with a key _k.\"\"\"\n",
    "        d_flat = _d.flatten()\n",
    "        cnt = 0\n",
    "        recovered = bytearray()\n",
    "        for _ in range(len(d_flat)):\n",
    "            current_byte = 0\n",
    "            for j in range(8):\n",
    "                current_byte |= ((d_flat[cnt] & 1)<<j)\n",
    "                cnt+=1\n",
    "                if cnt >= len(d_flat):\n",
    "                    break\n",
    "            if cnt >= len(d_flat):\n",
    "                break\n",
    "            recovered += int(current_byte).to_bytes(1, 'big')\n",
    "            if recovered[-3:] == b'$$$':\n",
    "                break\n",
    "        return bytes(recovered[:-3])\n",
    "\n",
    "T = LSB()\n",
    "K = 0.00\n",
    "W = b'1101010100101010101001010'\n",
    "results_LSB = test(T, K, W, \"100_Image_Dataset\")\n",
    "results_LSB_MEAN = {key:np.mean(results_ADD[key]) for key in METRICS.keys()}\n",
    "results_LSB_MEAN"
   ]
  },
  {
   "cell_type": "code",
   "execution_count": 6,
   "metadata": {},
   "outputs": [
    {
     "data": {
      "text/plain": [
       "{'MSE': 2.6048239872685186,\n",
       " 'PSNR': 43.98414050474563,\n",
       " 'SSIM': 0.9954223710717927,\n",
       " 'BER': 1.1688138888888888}"
      ]
     },
     "execution_count": 6,
     "metadata": {},
     "output_type": "execute_result"
    }
   ],
   "source": [
    "results_LSB = test(T, K, W, \"COCO_Dataset\")\n",
    "results_LSB_MEAN = {key:np.mean(results_ADD[key]) for key in METRICS.keys()}\n",
    "results_LSB_MEAN"
   ]
  },
  {
   "attachments": {},
   "cell_type": "markdown",
   "metadata": {},
   "source": [
    "## DCT"
   ]
  },
  {
   "cell_type": "code",
   "execution_count": 8,
   "metadata": {},
   "outputs": [
    {
     "data": {
      "text/plain": [
       "{'MSE': 2.6048239872685186,\n",
       " 'PSNR': 43.98414050474563,\n",
       " 'SSIM': 0.9954223710717927,\n",
       " 'BER': 1.1688138888888888}"
      ]
     },
     "execution_count": 8,
     "metadata": {},
     "output_type": "execute_result"
    }
   ],
   "source": [
    "\"\"\"DFT watermarking algorithm.\"\"\"\n",
    "\n",
    "quant = np.array([[16,11,10,16,24,40,51,61],      \n",
    "                    [12,12,14,19,26,58,60,55],    \n",
    "                    [14,13,16,24,40,57,69,56],\n",
    "                    [14,17,22,29,51,87,80,62],\n",
    "                    [18,22,37,56,68,109,103,77],\n",
    "                    [24,35,55,64,81,104,113,92],\n",
    "                    [49,64,78,87,103,121,120,101],\n",
    "                    [72,92,95,98,112,100,103,99]])\n",
    "\n",
    "class DCT(Watermarking):\n",
    "    \"\"\"Class for watermarking for DCT algorithm.\"\"\"\n",
    "\n",
    "    def __init__(self):\n",
    "        self.type = \"DCT\"\n",
    "        self.message = None\n",
    "        self.bit_mess = None\n",
    "        self.ori_col = 0\n",
    "        self.ori_row = 0\n",
    "        self.num_bits = 0\n",
    "\n",
    "    def enc(self,img,secret_msg,_k):\n",
    "        \"\"\"Encrypts an image _i with a watermark _w and a key _k.\"\"\"\n",
    "\n",
    "        secret=secret_msg\n",
    "        self.message = str(len(secret))+'*'+secret_msg\n",
    "        self.bit_mess = self.to_bits()\n",
    "\n",
    "        img = self.add_padd(img)\n",
    "        row,col = img.shape[:2]\n",
    "        self.ori_row, self.ori_col = row, col\n",
    "\n",
    "        if(col/8)*(row/8)<len(secret):\n",
    "            print(\"Error: Message too large to encode in image\")\n",
    "            return False\n",
    "\n",
    "        row,col = img.shape[:2]\n",
    "        b_img,g_img,r_img = cv2.split(img)\n",
    "        new_channels = [b_img, g_img, r_img]\n",
    "        b_img = np.float32(b_img)\n",
    "        img_blocks = [np.round(b_img[j:j+8, i:i+8]-128)\n",
    "                        for j in range(0, row, 8) for i in range(0, col, 8)]\n",
    "        dct_blocks = [np.round(cv2.dct(img_Block)) for img_Block in img_blocks]\n",
    "        quantized_dct = [np.round(dct_Block/quant) for dct_Block in dct_blocks]\n",
    "        mess_index = 0\n",
    "        letter_index = 0\n",
    "        for quantized_block in quantized_dct:\n",
    "            _dc = quantized_block[0][0]\n",
    "            _dc = np.uint8(_dc)\n",
    "            _dc = np.unpackbits(_dc)\n",
    "            _dc[7] = self.bit_mess[mess_index][letter_index]\n",
    "            _dc = np.packbits(_dc)\n",
    "            _dc = np.float32(_dc)\n",
    "            _dc= _dc-255\n",
    "            quantized_block[0][0] = _dc\n",
    "            letter_index = letter_index+1\n",
    "            if letter_index == 8:\n",
    "                letter_index = 0\n",
    "                mess_index = mess_index + 1\n",
    "                if mess_index == len(self.message):\n",
    "                    break\n",
    "        s_img_blocks = [quantized_block *quant+128 for quantized_block in quantized_dct]\n",
    "        s_img=[]\n",
    "        for chunk_row_blocks in self.chunks(s_img_blocks, col/8):\n",
    "            for row_block_num in range(8):\n",
    "                for block in chunk_row_blocks:\n",
    "                    s_img.extend(block[row_block_num])\n",
    "        s_img = np.array(s_img).reshape(row, col)\n",
    "        s_img = np.uint8(s_img)\n",
    "        f_img = cv2.merge((s_img,g_img,r_img))\n",
    "        return f_img\n",
    "\n",
    "    def dec(self,img, _i, _k):\n",
    "        row,col = img.shape[:2]\n",
    "        mess_size = None\n",
    "        message_bits = []\n",
    "        buff = 0\n",
    "        b_img,g_img,r_img = cv2.split(img)\n",
    "        b_img = np.float32(b_img)\n",
    "        img_blocks = [b_img[j:j+8, i:i+8]-128 for (j,i) in itertools.product(range(0,row,8),\n",
    "                                                                       range(0,col,8))]    \n",
    "        quantized_dct = [img_Block/quant for img_Block in img_blocks]\n",
    "        i=0\n",
    "        for quantized_block in quantized_dct:\n",
    "            _dc = quantized_block[0][0]\n",
    "            _dc = np.uint8(_dc)\n",
    "            _dc = np.unpackbits(_dc)\n",
    "            if _dc[7] == 0:\n",
    "                buff+= 1 << (7-i)\n",
    "            i=1+i\n",
    "            if i == 8:\n",
    "                message_bits.append(chr(buff))\n",
    "                buff = 0\n",
    "                i =0\n",
    "                if message_bits[-1] == '*' and mess_size is None:\n",
    "                    try:\n",
    "                        mess_size = int(''.join(message_bits[:-1]))\n",
    "\n",
    "                    except: pass\n",
    "\n",
    "            if len(message_bits) - len(str(mess_size)) - 1 == mess_size:\n",
    "                return ''.join(message_bits)[len(str(mess_size))+1:]\n",
    "        s_img_blocks = [quantized_block *quant+128 for quantized_block in quantized_dct]\n",
    "        s_img=[]\n",
    "        for chunk_row_blocks in self.chunks(s_img_blocks, col/8):\n",
    "            for row_block_num in range(8):\n",
    "                for block in chunk_row_blocks:\n",
    "                    s_img.extend(block[row_block_num])\n",
    "        s_img = np.array(s_img).reshape(row, col)\n",
    "        s_img = np.uint8(s_img)\n",
    "        s_img = cv2.merge((s_img,g_img,r_img))\n",
    "        return ''\n",
    "\n",
    "    def chunks(self, _l, _n):\n",
    "        \"\"\"Yield successive _n-sized chunks from l.\"\"\"\n",
    "        m = int(_n)\n",
    "        for i in range(0, len(_l), m):\n",
    "            yield _l[i:i + m]\n",
    "\n",
    "    def to_bits(self):\n",
    "        \"\"\"Converts a string to a list of bits\"\"\"\n",
    "        bits = []\n",
    "        for char in self.message:\n",
    "            binval = bin(ord(char))[2:].rjust(8,'0')\n",
    "            bits.append(binval)\n",
    "        self.num_bits = bin(len(bits))[2:].rjust(8,'0')\n",
    "        return bits\n",
    "\n",
    "    def add_padd(self, img):\n",
    "        \"\"\"Adds padding to an image to make it divisible by 8.\"\"\"\n",
    "        col = img.shape[1]\n",
    "        row = img.shape[0]\n",
    "        img = cv2.resize(img,(col+(8-col%8),row+(8-row%8)))\n",
    "        return img\n",
    "\n",
    "\n",
    "T = DCT()\n",
    "K = 0.00\n",
    "W = \"Hello World\"\n",
    "\n",
    "results_DCT = test(T, K, W, \"100_Image_Dataset\")\n",
    "results_DCT_MEAN = {key:np.mean(results_ADD[key]) for key in METRICS.keys()}\n",
    "results_DCT_MEAN"
   ]
  },
  {
   "cell_type": "code",
   "execution_count": 9,
   "metadata": {},
   "outputs": [
    {
     "data": {
      "text/plain": [
       "{'MSE': 34.402668848152196,\n",
       " 'PSNR': 32.7950684662244,\n",
       " 'SSIM': 0.7237992823996434,\n",
       " 'BER': 26.936990077475762}"
      ]
     },
     "execution_count": 9,
     "metadata": {},
     "output_type": "execute_result"
    }
   ],
   "source": [
    "results_DCT = test(T, K, W, \"COCO_Dataset\")\n",
    "results_DCT_MEAN = {key:np.mean(results_DCT[key]) for key in METRICS.keys()}\n",
    "results_DCT_MEAN"
   ]
  },
  {
   "attachments": {},
   "cell_type": "markdown",
   "metadata": {},
   "source": [
    "## DWT"
   ]
  },
  {
   "cell_type": "code",
   "execution_count": null,
   "metadata": {},
   "outputs": [
    {
     "name": "stderr",
     "output_type": "stream",
     "text": [
      "C:\\Users\\aeternum\\AppData\\Local\\Temp\\ipykernel_43784\\3013011825.py:36: DeprecationWarning: Insufficient bit width provided. This behavior will raise an error in the future.\n",
      "  binary_pixel = np.binary_repr(_ll[i, j], width=8)\n"
     ]
    },
    {
     "data": {
      "text/plain": [
       "{'MSE': 45.750982404517146,\n",
       " 'PSNR': 31.912928826068537,\n",
       " 'SSIM': 0.9934247791222252,\n",
       " 'BER': 29.80561128971036}"
      ]
     },
     "execution_count": 27,
     "metadata": {},
     "output_type": "execute_result"
    }
   ],
   "source": [
    "\"\"\"DWT watermarking algorithm.\"\"\"\n",
    "\n",
    "class DWT(Watermarking):\n",
    "    \"\"\"Class for watermarking using DWT algorithm.\"\"\"\n",
    "\n",
    "    def __init__(self):\n",
    "        self.type = \"DWT\"\n",
    "        self.message = None\n",
    "        self.bit_mess = None\n",
    "        self.ori_col = 0\n",
    "        self.ori_row = 0\n",
    "        self.num_bits = 0\n",
    "\n",
    "    def enc(self, img, secret_msg, _k):\n",
    "        \"\"\"Encrypts an image with a watermark.\"\"\"\n",
    "\n",
    "        img = self.add_padd(img)\n",
    "        b_img, g_img, r_img = cv2.split(img)\n",
    "\n",
    "        image = b_img\n",
    "\n",
    "        ori_row, ori_col = image.shape\n",
    "        self.message = str(len(secret_msg))+'*'+secret_msg\n",
    "        self.bit_mess = self.to_bits()\n",
    "        binary_watermark = self.bit_mess\n",
    "\n",
    "        coeffs = pywt.dwt2(image, \"haar\")\n",
    "        _ll, (_ch, _cv, _cd) = coeffs\n",
    "        _ll = np.array(_ll, dtype=np.int32)\n",
    "\n",
    "        binary_watermark_index = 0\n",
    "        for i in range(_ll.shape[0]):\n",
    "            for j in range(_ll.shape[1]):\n",
    "                if binary_watermark_index >= len(binary_watermark):\n",
    "                    break\n",
    "                binary_pixel = np.binary_repr(_ll[i, j], width=8)\n",
    "                modified_pixel = int(binary_pixel[:-1] + binary_watermark[binary_watermark_index], 2)\n",
    "                _ll[i, j] = modified_pixel\n",
    "                binary_watermark_index += 1\n",
    "            if binary_watermark_index >= len(binary_watermark):\n",
    "                break\n",
    "\n",
    "        modified_coeffs = (_ll, (_ch, _cv, _cd))\n",
    "        watermarked_image = pywt.idwt2(modified_coeffs, \"haar\")\n",
    "\n",
    "        watermarked_image = cv2.resize(watermarked_image, (ori_col, ori_row))\n",
    "        r_img = cv2.resize(r_img, (ori_col, ori_row))\n",
    "        g_img = cv2.resize(g_img, (ori_col, ori_row))\n",
    "        ret_image = np.zeros((img.shape[0], img.shape[1], 3), dtype=np.uint8)\n",
    "        ret_image[:, :, 0] = watermarked_image\n",
    "        ret_image[:, :, 1] = g_img\n",
    "        ret_image[:, :, 2] = r_img\n",
    "        return ret_image\n",
    "\n",
    "    def dec(self,img, _i, _k):\n",
    "        \"\"\"Extracts the watermark from an image.\"\"\"\n",
    "\n",
    "        coeffs = pywt.dwt2(img, \"haar\")\n",
    "        _ll, (_, _, _) = coeffs\n",
    "\n",
    "        binary_watermark = \"\"\n",
    "        binary_watermark_index = 0\n",
    "        for i in range(_ll.shape[0]):\n",
    "            for j in range(_ll.shape[1]):\n",
    "                if binary_watermark_index >= len(binary_watermark):\n",
    "                    break\n",
    "\n",
    "                binary_pixel = np.binary_repr(_ll[i, j], width=8)\n",
    "                binary_watermark += binary_pixel[-1]\n",
    "                binary_watermark_index += 1\n",
    "            if binary_watermark_index >= len(binary_watermark):\n",
    "                break\n",
    "\n",
    "        watermark = \"\".join(\n",
    "            chr(int(binary_watermark[i:i+8], 2)) for i in range(0, len(binary_watermark), 8))\n",
    "\n",
    "        return watermark\n",
    "\n",
    "    def chunks(self, _l, _n):\n",
    "        \"\"\"Yield successive _n-sized chunks from l.\"\"\"\n",
    "        m = int(_n)\n",
    "        for i in range(0, len(_l), m):\n",
    "            yield _l[i:i + m]\n",
    "\n",
    "    def to_bits(self):\n",
    "        \"\"\"Converts a string to a list of bits\"\"\"\n",
    "        bits = []\n",
    "        for char in self.message:\n",
    "            binval = bin(ord(char))[2:].rjust(8,'0')\n",
    "            bits.append(binval)\n",
    "        self.num_bits = bin(len(bits))[2:].rjust(8,'0')\n",
    "        return bits\n",
    "\n",
    "    def add_padd(self, img):\n",
    "        \"\"\"Adds padding to an image to make it divisible by 8.\"\"\"\n",
    "        col = img.shape[1]\n",
    "        row = img.shape[0]\n",
    "        img = cv2.resize(img,(col+(8-col%8),row+(8-row%8)))\n",
    "        return img\n",
    "\n",
    "T = DWT()\n",
    "K = 0.00\n",
    "W = \"Hello World\"\n",
    "\n",
    "results_DWT = test(T, K, W, \"100_Image_Dataset\")\n",
    "results_DWT_MEAN = {key:np.mean(results_ADD[key]) for key in METRICS.keys()}\n",
    "results_DWT_MEAN"
   ]
  },
  {
   "cell_type": "code",
   "execution_count": null,
   "metadata": {},
   "outputs": [
    {
     "name": "stderr",
     "output_type": "stream",
     "text": [
      "C:\\Users\\aeternum\\AppData\\Local\\Temp\\ipykernel_43784\\3013011825.py:36: DeprecationWarning: Insufficient bit width provided. This behavior will raise an error in the future.\n",
      "  binary_pixel = np.binary_repr(_ll[i, j], width=8)\n"
     ]
    },
    {
     "data": {
      "text/plain": [
       "{'MSE': 34.21752877419776,\n",
       " 'PSNR': 32.82326044341667,\n",
       " 'SSIM': 0.7318678398968141,\n",
       " 'BER': 12.727806454680646}"
      ]
     },
     "execution_count": 28,
     "metadata": {},
     "output_type": "execute_result"
    }
   ],
   "source": [
    "results_DWT = test(T, K, W, \"COCO_Dataset\")\n",
    "results_DWT_MEAN = {key:np.mean(results_DCT[key]) for key in METRICS.keys()}\n",
    "results_DWT_MEAN"
   ]
  }
 ],
 "metadata": {
  "kernelspec": {
   "display_name": "CV",
   "language": "python",
   "name": "python3"
  },
  "language_info": {
   "codemirror_mode": {
    "name": "ipython",
    "version": 3
   },
   "file_extension": ".py",
   "mimetype": "text/x-python",
   "name": "python",
   "nbconvert_exporter": "python",
   "pygments_lexer": "ipython3",
   "version": "3.9.16"
  },
  "orig_nbformat": 4
 },
 "nbformat": 4,
 "nbformat_minor": 2
}
